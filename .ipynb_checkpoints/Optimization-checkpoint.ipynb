{
 "cells": [
  {
   "cell_type": "markdown",
   "id": "274f061b-b28a-424a-8eee-d04110516814",
   "metadata": {
    "tags": []
   },
   "source": [
    "## Optimization for Machine Learning and Deep Learning\n",
    "\n",
    "> We will start with linear regression model </br>\n",
    "> All the implementation will be done using OOP"
   ]
  },
  {
   "cell_type": "code",
   "execution_count": 2,
   "id": "c1c41216-4f3b-405e-948d-50512667f89f",
   "metadata": {},
   "outputs": [],
   "source": [
    "# import needed libraries\n",
    "import numpy as np\n",
    "import pandas as pd"
   ]
  },
  {
   "cell_type": "markdown",
   "id": "a669f371-7c3f-4608-95a2-243372a2ca90",
   "metadata": {
    "tags": []
   },
   "source": [
    "### Implement the model using class and methods"
   ]
  },
  {
   "cell_type": "code",
   "execution_count": 48,
   "id": "ba1d967e-1aa2-4aac-bea0-be32c29ba62b",
   "metadata": {},
   "outputs": [],
   "source": [
    "class lin_reg:\n",
    "    \n",
    "   # initialize model variables \n",
    "    def __init__(self):\n",
    "        # Learning rate of the network\n",
    "        self.alpha = 0.0001\n",
    "        self.error = 1\n",
    "        self.df = None\n",
    "        self.scaling_type = 'norm'\n",
    "        \n",
    "        # 0o .....0n+1\n",
    "        self.params = None\n",
    "    \n",
    "    # Allow modifying of learning rate for diversity in application\n",
    "    def set_learning_rate(self, alpha):\n",
    "        self.alpha = alpha\n",
    "    \n",
    "    # Allow modifying of scaling type\n",
    "    def set_scaling_type(self, scaling_type):\n",
    "        self.scaling_type = scaling_type\n",
    "\n",
    "    \n",
    "    \n",
    "    \n",
    "    # cleaning and scaling function\n",
    "    def norm_clean(self):\n",
    "        \n",
    "        # initialize 0s to 1 \n",
    "        self.params = np.array([1 for _ in range(self.df.shape[1])],dtype='float64')\n",
    "        \n",
    "        \n",
    "        # drop null values to avoid exceptions while processing \n",
    "        self.df.dropna()\n",
    "        \n",
    "        \n",
    "        # scale values depending on scaling type defined\n",
    "        if self.scaling_type == 'norm':\n",
    "            for col in self.df.columns:\n",
    "                self.df[col] = (self.df[col] - self.df[col].min()) / ( self.df[col].max() - self.df[col].min())\n",
    "        \n",
    "        elif self.scaling_type == 'mean':\n",
    "            for col in self.df.columns:\n",
    "                self.df[col] = (self.df[col] - self.df[col].mean()) / self.df[col].std()\n",
    "                \n",
    "        elif self.scaling_type == 'robust':\n",
    "            for col in self.dfcolumns:\n",
    "                self.df[col] = (self.df[col] - self.df[col].quantile(0.25)) / (self.df[col].quantile(0.75) - self.df[col].quantile(0.25))\n",
    "                \n",
    "        \n",
    "        \n",
    "    \n",
    "    # Read from df\n",
    "    def read_df(self, df):\n",
    "        self.df = df\n",
    "        \n",
    "        self.norm_clean()\n",
    "        \n",
    "    # Read from csv file \n",
    "    def read_csv(self, name):\n",
    "        self.df = pd.read_csv(name, names=[0,1])\n",
    "        \n",
    "        \n",
    "        self.norm_clean()\n",
    "\n",
    "    def print_df(self):\n",
    "        print(self.df.describe())\n",
    "    \n",
    "    \n",
    "    # Define error function\n",
    "    def error_calc(self):\n",
    "        sum = (( self.params[0] + self.df.iloc[:,0:-1] * self.params[1:len(self.params)] - self.df.iloc[:,-1] ) ** 2).sum()\n",
    "        \n",
    "        self.error = sum.sum() / (float(2) * self.df.shape[0])\n",
    "        \n",
    "        \n",
    "    # Define gradient descent function\n",
    "    def grad_desc(self):\n",
    "        thetas = []\n",
    "        thetas.append(( self.params[0] + self.df[0] * self.params[1] - self.df[1] ).sum() / self.df.shape[0])\n",
    "        \n",
    "        for col in self.df.columns[:-1]:\n",
    "            thetas.append(( (self.params[0] + self.df.iloc[:,0:-1] *  self.params[1:len(self.params)] - self.df.iloc[:,-1]) * self.df[col] ).sum() / self.df.shape[0])\n",
    "        \n",
    "        self.params -= [theta * self.alpha for theta in thetas]\n",
    "       \n",
    "        \n",
    "    def train(self, max_iter):\n",
    "        for i in range(max_iter):\n",
    "            self.error_calc()\n",
    "            if self.error < 0.007:\n",
    "                break\n",
    "            \n",
    "            self.grad_desc()\n",
    "            \n",
    "            if i % 10000 == 0:\n",
    "                print(self.error)\n",
    "                \n",
    "            \n",
    "        print(self.error)\n",
    "        return self.params\n",
    "    "
   ]
  },
  {
   "cell_type": "markdown",
   "id": "a51b85dd-b4d3-401a-a295-d8b8442ed758",
   "metadata": {},
   "source": [
    "### Now we can create an object and start testing the model"
   ]
  },
  {
   "cell_type": "code",
   "execution_count": 49,
   "id": "b6f2943a-51f4-4d05-85c0-0575743d0d8e",
   "metadata": {},
   "outputs": [
    {
     "name": "stderr",
     "output_type": "stream",
     "text": [
      "C:\\Users\\sicom\\AppData\\Local\\Temp\\ipykernel_7720\\181075770.py:85: VisibleDeprecationWarning: Creating an ndarray from ragged nested sequences (which is a list-or-tuple of lists-or-tuples-or ndarrays with different lengths or shapes) is deprecated. If you meant to do this, you must specify 'dtype=object' when creating the ndarray.\n",
      "  self.params -= [theta * self.alpha for theta in thetas]\n"
     ]
    },
    {
     "ename": "UFuncTypeError",
     "evalue": "Cannot cast ufunc 'subtract' output from dtype('O') to dtype('float64') with casting rule 'same_kind'",
     "output_type": "error",
     "traceback": [
      "\u001b[1;31m---------------------------------------------------------------------------\u001b[0m",
      "\u001b[1;31mUFuncTypeError\u001b[0m                            Traceback (most recent call last)",
      "Input \u001b[1;32mIn [49]\u001b[0m, in \u001b[0;36m<cell line: 1>\u001b[1;34m()\u001b[0m\n\u001b[0;32m      5\u001b[0m model\u001b[38;5;241m.\u001b[39mread_csv(\u001b[38;5;124m'\u001b[39m\u001b[38;5;124mdata.csv\u001b[39m\u001b[38;5;124m'\u001b[39m)\n\u001b[0;32m      6\u001b[0m model\u001b[38;5;241m.\u001b[39mset_learning_rate(\u001b[38;5;241m0.001\u001b[39m)\n\u001b[1;32m----> 7\u001b[0m model_params \u001b[38;5;241m=\u001b[39m \u001b[43mmodel\u001b[49m\u001b[38;5;241;43m.\u001b[39;49m\u001b[43mtrain\u001b[49m\u001b[43m(\u001b[49m\u001b[38;5;241;43m30_000\u001b[39;49m\u001b[43m)\u001b[49m\n\u001b[0;32m      8\u001b[0m \u001b[38;5;28mprint\u001b[39m(model_params)\n",
      "Input \u001b[1;32mIn [48]\u001b[0m, in \u001b[0;36mlin_reg.train\u001b[1;34m(self, max_iter)\u001b[0m\n\u001b[0;32m     91\u001b[0m \u001b[38;5;28;01mif\u001b[39;00m \u001b[38;5;28mself\u001b[39m\u001b[38;5;241m.\u001b[39merror \u001b[38;5;241m<\u001b[39m \u001b[38;5;241m0.007\u001b[39m:\n\u001b[0;32m     92\u001b[0m     \u001b[38;5;28;01mbreak\u001b[39;00m\n\u001b[1;32m---> 94\u001b[0m \u001b[38;5;28;43mself\u001b[39;49m\u001b[38;5;241;43m.\u001b[39;49m\u001b[43mgrad_desc\u001b[49m\u001b[43m(\u001b[49m\u001b[43m)\u001b[49m\n\u001b[0;32m     96\u001b[0m \u001b[38;5;28;01mif\u001b[39;00m i \u001b[38;5;241m%\u001b[39m \u001b[38;5;241m10000\u001b[39m \u001b[38;5;241m==\u001b[39m \u001b[38;5;241m0\u001b[39m:\n\u001b[0;32m     97\u001b[0m     \u001b[38;5;28mprint\u001b[39m(\u001b[38;5;28mself\u001b[39m\u001b[38;5;241m.\u001b[39merror)\n",
      "Input \u001b[1;32mIn [48]\u001b[0m, in \u001b[0;36mlin_reg.grad_desc\u001b[1;34m(self)\u001b[0m\n\u001b[0;32m     82\u001b[0m \u001b[38;5;28;01mfor\u001b[39;00m col \u001b[38;5;129;01min\u001b[39;00m \u001b[38;5;28mself\u001b[39m\u001b[38;5;241m.\u001b[39mdf\u001b[38;5;241m.\u001b[39mcolumns[:\u001b[38;5;241m-\u001b[39m\u001b[38;5;241m1\u001b[39m]:\n\u001b[0;32m     83\u001b[0m     thetas\u001b[38;5;241m.\u001b[39mappend(( (\u001b[38;5;28mself\u001b[39m\u001b[38;5;241m.\u001b[39mparams[\u001b[38;5;241m0\u001b[39m] \u001b[38;5;241m+\u001b[39m \u001b[38;5;28mself\u001b[39m\u001b[38;5;241m.\u001b[39mdf\u001b[38;5;241m.\u001b[39miloc[:,\u001b[38;5;241m0\u001b[39m:\u001b[38;5;241m-\u001b[39m\u001b[38;5;241m1\u001b[39m] \u001b[38;5;241m*\u001b[39m  \u001b[38;5;28mself\u001b[39m\u001b[38;5;241m.\u001b[39mparams[\u001b[38;5;241m1\u001b[39m:\u001b[38;5;28mlen\u001b[39m(\u001b[38;5;28mself\u001b[39m\u001b[38;5;241m.\u001b[39mparams)] \u001b[38;5;241m-\u001b[39m \u001b[38;5;28mself\u001b[39m\u001b[38;5;241m.\u001b[39mdf\u001b[38;5;241m.\u001b[39miloc[:,\u001b[38;5;241m-\u001b[39m\u001b[38;5;241m1\u001b[39m]) \u001b[38;5;241m*\u001b[39m \u001b[38;5;28mself\u001b[39m\u001b[38;5;241m.\u001b[39mdf[col] )\u001b[38;5;241m.\u001b[39msum() \u001b[38;5;241m/\u001b[39m \u001b[38;5;28mself\u001b[39m\u001b[38;5;241m.\u001b[39mdf\u001b[38;5;241m.\u001b[39mshape[\u001b[38;5;241m0\u001b[39m])\n\u001b[1;32m---> 85\u001b[0m \u001b[38;5;28mself\u001b[39m\u001b[38;5;241m.\u001b[39mparams \u001b[38;5;241m-\u001b[39m\u001b[38;5;241m=\u001b[39m [theta \u001b[38;5;241m*\u001b[39m \u001b[38;5;28mself\u001b[39m\u001b[38;5;241m.\u001b[39malpha \u001b[38;5;28;01mfor\u001b[39;00m theta \u001b[38;5;129;01min\u001b[39;00m thetas]\n",
      "\u001b[1;31mUFuncTypeError\u001b[0m: Cannot cast ufunc 'subtract' output from dtype('O') to dtype('float64') with casting rule 'same_kind'"
     ]
    },
    {
     "data": {
      "image/png": "[encoded data removed]",
      "text/plain": [
       "<Figure size 640x480 with 1 Axes>"
      ]
     },
     "metadata": {},
     "output_type": "display_data"
    }
   ],
   "source": [
    "\n",
    "if __name__ == \"__main__\":\n",
    "    \n",
    "    # Create an object and read data from file then train\n",
    "    model = lin_reg()\n",
    "    model.read_csv('data.csv')\n",
    "    model.set_learning_rate(0.001)\n",
    "    model_params = model.train(30_000)\n",
    "    print(model_params)\n",
    "    "
   ]
  },
  {
   "cell_type": "code",
   "execution_count": 40,
   "id": "63525ecc-3839-471d-9d22-8264797605b4",
   "metadata": {},
   "outputs": [
    {
     "data": {
      "text/plain": [
       "0.0"
      ]
     },
     "execution_count": 40,
     "metadata": {},
     "output_type": "execute_result"
    }
   ],
   "source": [
    "model.error"
   ]
  },
  {
   "cell_type": "code",
   "execution_count": 38,
   "id": "2b171c5f-6121-4dde-9384-a7e30ee1678f",
   "metadata": {},
   "outputs": [
    {
     "data": {
      "text/html": [
       "<div>\n",
       "<style scoped>\n",
       "    .dataframe tbody tr th:only-of-type {\n",
       "        vertical-align: middle;\n",
       "    }\n",
       "\n",
       "    .dataframe tbody tr th {\n",
       "        vertical-align: top;\n",
       "    }\n",
       "\n",
       "    .dataframe thead th {\n",
       "        text-align: right;\n",
       "    }\n",
       "</style>\n",
       "<table border=\"1\" class=\"dataframe\">\n",
       "  <thead>\n",
       "    <tr style=\"text-align: right;\">\n",
       "      <th></th>\n",
       "      <th>0</th>\n",
       "      <th>1</th>\n",
       "    </tr>\n",
       "  </thead>\n",
       "  <tbody>\n",
       "    <tr>\n",
       "      <th>0</th>\n",
       "      <td>25.128485</td>\n",
       "      <td>31.707006</td>\n",
       "    </tr>\n",
       "    <tr>\n",
       "      <th>1</th>\n",
       "      <td>25.128485</td>\n",
       "      <td>68.777596</td>\n",
       "    </tr>\n",
       "    <tr>\n",
       "      <th>2</th>\n",
       "      <td>25.128485</td>\n",
       "      <td>62.562382</td>\n",
       "    </tr>\n",
       "    <tr>\n",
       "      <th>3</th>\n",
       "      <td>25.128485</td>\n",
       "      <td>71.546632</td>\n",
       "    </tr>\n",
       "    <tr>\n",
       "      <th>4</th>\n",
       "      <td>25.128485</td>\n",
       "      <td>87.230925</td>\n",
       "    </tr>\n",
       "    <tr>\n",
       "      <th>...</th>\n",
       "      <td>...</td>\n",
       "      <td>...</td>\n",
       "    </tr>\n",
       "    <tr>\n",
       "      <th>95</th>\n",
       "      <td>25.128485</td>\n",
       "      <td>81.536991</td>\n",
       "    </tr>\n",
       "    <tr>\n",
       "      <th>96</th>\n",
       "      <td>25.128485</td>\n",
       "      <td>72.111832</td>\n",
       "    </tr>\n",
       "    <tr>\n",
       "      <th>97</th>\n",
       "      <td>25.128485</td>\n",
       "      <td>85.232007</td>\n",
       "    </tr>\n",
       "    <tr>\n",
       "      <th>98</th>\n",
       "      <td>25.128485</td>\n",
       "      <td>66.224958</td>\n",
       "    </tr>\n",
       "    <tr>\n",
       "      <th>99</th>\n",
       "      <td>25.128485</td>\n",
       "      <td>53.454394</td>\n",
       "    </tr>\n",
       "  </tbody>\n",
       "</table>\n",
       "<p>100 rows × 2 columns</p>\n",
       "</div>"
      ],
      "text/plain": [
       "            0          1\n",
       "0   25.128485  31.707006\n",
       "1   25.128485  68.777596\n",
       "2   25.128485  62.562382\n",
       "3   25.128485  71.546632\n",
       "4   25.128485  87.230925\n",
       "..        ...        ...\n",
       "95  25.128485  81.536991\n",
       "96  25.128485  72.111832\n",
       "97  25.128485  85.232007\n",
       "98  25.128485  66.224958\n",
       "99  25.128485  53.454394\n",
       "\n",
       "[100 rows x 2 columns]"
      ]
     },
     "execution_count": 38,
     "metadata": {},
     "output_type": "execute_result"
    }
   ],
   "source": [
    "df = pd.read_csv('data.csv',names=[0,1])\n",
    "df[0] = ( model_params[0] * (df[0].max() - df[0].min()) + df[0].min() ) + model_params[1] * df[0]\n",
    "df\n"
   ]
  },
  {
   "cell_type": "code",
   "execution_count": null,
   "id": "362f8eb6-905a-4eed-b4b6-a0be9fe2aa2d",
   "metadata": {},
   "outputs": [],
   "source": [
    "    "
   ]
  },
  {
   "cell_type": "code",
   "execution_count": null,
   "id": "7269abdb-3876-41c2-aea3-d2bab0e7ff45",
   "metadata": {},
   "outputs": [],
   "source": []
  }
 ],
 "metadata": {
  "kernelspec": {
   "display_name": "Python 3 (ipykernel)",
   "language": "python",
   "name": "python3"
  },
  "language_info": {
   "codemirror_mode": {
    "name": "ipython",
    "version": 3
   },
   "file_extension": ".py",
   "mimetype": "text/x-python",
   "name": "python",
   "nbconvert_exporter": "python",
   "pygments_lexer": "ipython3",
   "version": "3.10.5"
  }
 },
 "nbformat": 4,
 "nbformat_minor": 5
}
