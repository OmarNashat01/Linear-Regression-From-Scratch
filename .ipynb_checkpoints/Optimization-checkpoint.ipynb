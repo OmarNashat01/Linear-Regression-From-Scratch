{
 "cells": [
  {
   "cell_type": "markdown",
   "id": "274f061b-b28a-424a-8eee-d04110516814",
   "metadata": {
    "tags": []
   },
   "source": [
    "## Optimization for Machine Learning and Deep Learning\n",
    "\n",
    "> We will start with linear regression model </br>\n",
    "> All the implementation will be done using OOP"
   ]
  },
  {
   "cell_type": "code",
   "execution_count": 17,
   "id": "c1c41216-4f3b-405e-948d-50512667f89f",
   "metadata": {},
   "outputs": [],
   "source": [
    "# import needed libraries\n",
    "import numpy as np\n",
    "import pandas as pd"
   ]
  },
  {
   "cell_type": "markdown",
   "id": "a669f371-7c3f-4608-95a2-243372a2ca90",
   "metadata": {
    "tags": []
   },
   "source": [
    "### Implement the model using class and methods"
   ]
  },
  {
   "cell_type": "code",
   "execution_count": 25,
   "id": "ba1d967e-1aa2-4aac-bea0-be32c29ba62b",
   "metadata": {},
   "outputs": [
    {
     "data": {
      "text/plain": [
       "0.0001"
      ]
     },
     "execution_count": 25,
     "metadata": {},
     "output_type": "execute_result"
    }
   ],
   "source": [
    "class lin_reg:\n",
    "    \n",
    "   # initialize model variables \n",
    "    def __init__(self):\n",
    "        # Learning rate of the network\n",
    "        self.alpha = 0.0001\n",
    "        self.df = None\n",
    "        self.scaling_type = 'norm'\n",
    "        \n",
    "        # 0o .....0n+1\n",
    "        self.params = None\n",
    "    \n",
    "    # Allow modifying of learning rate for diversity in application\n",
    "    def set_learning_rate(self, alpha):\n",
    "        self.alpha = alpha\n",
    "    \n",
    "    # Allow modifying of scaling type\n",
    "    def set_scaling_type(self, scaling_type):\n",
    "        self.scaling_type = scaling_type\n",
    "\n",
    "    \n",
    "    \n",
    "    \n",
    "    # cleaning and scaling function\n",
    "    def norm_clean(self):\n",
    "        \n",
    "        # initialize 0s to 1 \n",
    "        self.params = np.array(np.ones(self.df.shape(1)))\n",
    "        \n",
    "        \n",
    "        # drop null values to avoid exceptions while processing \n",
    "        self.df.dropna()\n",
    "        \n",
    "        \n",
    "        # scale values depending on scaling type defined\n",
    "        if scaling_type == 'norm':\n",
    "            for col in self.df.columns:\n",
    "                col = (col - col.min()) / ( col.max() - col.min())\n",
    "        \n",
    "        elif scaling_type == 'mean':\n",
    "            for col in self.df.columns:\n",
    "                col = (col - col.mean()) / col.std()\n",
    "                \n",
    "        elif scaling_type == 'robust':\n",
    "            for col in self.df.columns:\n",
    "                col = (col - col.quantile(0.25)) / (col.quantile(0.75) - col.quantile(0.25))\n",
    "                \n",
    "        \n",
    "        \n",
    "    \n",
    "    # Read from df\n",
    "    def read_df(self, df):\n",
    "        self.df = df.copy()\n",
    "        \n",
    "        norm_clean()\n",
    "        \n",
    "    # Read from csv file \n",
    "    def read_csv(self, name):\n",
    "        self.df = pd.read_csv(name)\n",
    "        \n",
    "        norm_clean()\n",
    "\n",
    "    \n",
    "    \n",
    "    # Define the model function h(0) = 0o + 01 X1 + ..... 0n+1 Xn\n",
    "    \n",
    "    \n",
    "    \n",
    "    \n",
    "    \n",
    "model = lin_reg()\n",
    "#model.set_learning_rate(0.1)\n",
    "model.alpha\n",
    "    "
   ]
  },
  {
   "cell_type": "code",
   "execution_count": null,
   "id": "c5ecae52-60f0-4b4a-a060-90f0a22d5385",
   "metadata": {},
   "outputs": [],
   "source": []
  }
 ],
 "metadata": {
  "kernelspec": {
   "display_name": "Python 3 (ipykernel)",
   "language": "python",
   "name": "python3"
  },
  "language_info": {
   "codemirror_mode": {
    "name": "ipython",
    "version": 3
   },
   "file_extension": ".py",
   "mimetype": "text/x-python",
   "name": "python",
   "nbconvert_exporter": "python",
   "pygments_lexer": "ipython3",
   "version": "3.10.5"
  }
 },
 "nbformat": 4,
 "nbformat_minor": 5
}
